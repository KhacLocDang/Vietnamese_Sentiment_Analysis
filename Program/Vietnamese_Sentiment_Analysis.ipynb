{
 "cells": [
  {
   "cell_type": "markdown",
   "metadata": {
    "colab_type": "text",
    "id": "qeZQGjzxu7RA"
   },
   "source": [
    "# Vietnamese Sentiment Anslysis\n",
    "\n",
    "## About team:\n",
    "Information Retrival (CS336.K11.KHCL) - University of Information Technology\n",
    "- Lê Nhất Minh (17520751)\n",
    "- Đặng Khắc Lộc (17520694)\n",
    "\n",
    "## Methods for project:\n",
    "Machine Learning Algorithms\n",
    "Word Embedding: TF-IDF Vectorizer \n",
    "- Case 1: Logistic Regression \n",
    "- Case 2: Support Vector Machine\n",
    "- Case 3: Multinomial Naive Bayes \n",
    "- Case 4: Bernoulli Naive Bayes\n",
    "\n",
    "\n",
    "\n"
   ]
  },
  {
   "cell_type": "markdown",
   "metadata": {
    "colab_type": "text",
    "id": "UIu6sQ-H0oJa"
   },
   "source": [
    "# Setting Google Colab"
   ]
  },
  {
   "cell_type": "code",
   "execution_count": null,
   "metadata": {
    "colab": {
     "base_uri": "https://localhost:8080/",
     "height": 145
    },
    "colab_type": "code",
    "executionInfo": {
     "elapsed": 45369,
     "status": "ok",
     "timestamp": 1578505946653,
     "user": {
      "displayName": "Loc dang Khac",
      "photoUrl": "",
      "userId": "17874175676520040314"
     },
     "user_tz": -420
    },
    "id": "pB8xVUsRF4zs",
    "outputId": "c9cadcbc-f833-4cc2-92eb-73c114af9dcb"
   },
   "outputs": [
    {
     "name": "stdout",
     "output_type": "stream",
     "text": [
      "E: Package 'python-software-properties' has no installation candidate\n",
      "Selecting previously unselected package google-drive-ocamlfuse.\n",
      "(Reading database ... 145674 files and directories currently installed.)\n",
      "Preparing to unpack .../google-drive-ocamlfuse_0.7.15-0ubuntu1~ubuntu18.04.1_amd64.deb ...\n",
      "Unpacking google-drive-ocamlfuse (0.7.15-0ubuntu1~ubuntu18.04.1) ...\n",
      "Setting up google-drive-ocamlfuse (0.7.15-0ubuntu1~ubuntu18.04.1) ...\n",
      "Processing triggers for man-db (2.8.3-2ubuntu0.1) ...\n"
     ]
    }
   ],
   "source": [
    "!apt-get update -qq 2>&1 > /dev/null\n",
    "!apt-get install -y -qq software-properties-common python-software-properties module-init-tools\n",
    "!add-apt-repository -y ppa:alessandro-strada/ppa 2>&1 > /dev/null\n",
    "!apt-get update -qq 2>&1 > /dev/null\n",
    "!apt-get -y install -qq google-drive-ocamlfuse fuse"
   ]
  },
  {
   "cell_type": "code",
   "execution_count": null,
   "metadata": {
    "colab": {
     "base_uri": "https://localhost:8080/",
     "height": 146
    },
    "colab_type": "code",
    "executionInfo": {
     "elapsed": 26334,
     "status": "ok",
     "timestamp": 1578505992067,
     "user": {
      "displayName": "Loc dang Khac",
      "photoUrl": "",
      "userId": "17874175676520040314"
     },
     "user_tz": -420
    },
    "id": "4sM90pEsNhw3",
    "outputId": "7db3afe5-94b6-4e7e-8a97-47a1a392efbf"
   },
   "outputs": [
    {
     "name": "stdout",
     "output_type": "stream",
     "text": [
      "Go to this URL in a browser: https://accounts.google.com/o/oauth2/auth?client_id=947318989803-6bn6qk8qdgf4n4g3pfee6491hc0brc4i.apps.googleusercontent.com&redirect_uri=urn%3aietf%3awg%3aoauth%3a2.0%3aoob&response_type=code&scope=email%20https%3a%2f%2fwww.googleapis.com%2fauth%2fdocs.test%20https%3a%2f%2fwww.googleapis.com%2fauth%2fdrive%20https%3a%2f%2fwww.googleapis.com%2fauth%2fdrive.photos.readonly%20https%3a%2f%2fwww.googleapis.com%2fauth%2fpeopleapi.readonly\n",
      "\n",
      "Enter your authorization code:\n",
      "··········\n",
      "Mounted at /gdrive/\n",
      "/gdrive/My Drive/Vietnamese_Sentiment_Analysis/Program\n"
     ]
    }
   ],
   "source": [
    "# Authenticate and create the PyDrive client.\n",
    "# This only needs to be done once per notebook.\n",
    "from google.colab import drive\n",
    "drive.mount('/gdrive/')\n",
    "\n",
    "## READ THE NOTES / INSTRUCTIONS ABOVE CAREFULLY BEFORE USE ##\n",
    "%cd /gdrive/My Drive/Vietnamese_Sentiment_Analysis/Program"
   ]
  },
  {
   "cell_type": "markdown",
   "metadata": {
    "colab_type": "text",
    "id": "8SUxTdP-r7Zl"
   },
   "source": [
    "# Import libraries and dataset"
   ]
  },
  {
   "cell_type": "code",
   "execution_count": null,
   "metadata": {
    "colab": {
     "base_uri": "https://localhost:8080/",
     "height": 346
    },
    "colab_type": "code",
    "executionInfo": {
     "elapsed": 8185,
     "status": "ok",
     "timestamp": 1578506414215,
     "user": {
      "displayName": "Loc dang Khac",
      "photoUrl": "",
      "userId": "17874175676520040314"
     },
     "user_tz": -420
    },
    "id": "BguZRH7W9eFo",
    "outputId": "c92fab6c-0ff3-4988-a76e-e101a0acf81c"
   },
   "outputs": [
    {
     "name": "stdout",
     "output_type": "stream",
     "text": [
      "Collecting pyvi\n",
      "\u001b[?25l  Downloading https://files.pythonhosted.org/packages/31/73/89be26d66c71f3bcca1de13bb73a9d622fabe282b55e518d68e86081d4e6/pyvi-0.0.9.7-py2.py3-none-any.whl (8.7MB)\n",
      "\u001b[K     |████████████████████████████████| 8.8MB 347kB/s \n",
      "\u001b[?25hCollecting sklearn-crfsuite\n",
      "  Downloading https://files.pythonhosted.org/packages/25/74/5b7befa513482e6dee1f3dd68171a6c9dfc14c0eaa00f885ffeba54fe9b0/sklearn_crfsuite-0.3.6-py2.py3-none-any.whl\n",
      "Requirement already satisfied: scikit-learn in /usr/local/lib/python3.6/dist-packages (from pyvi) (0.22.1)\n",
      "Requirement already satisfied: tqdm>=2.0 in /usr/local/lib/python3.6/dist-packages (from sklearn-crfsuite->pyvi) (4.28.1)\n",
      "Requirement already satisfied: tabulate in /usr/local/lib/python3.6/dist-packages (from sklearn-crfsuite->pyvi) (0.8.6)\n",
      "Requirement already satisfied: six in /usr/local/lib/python3.6/dist-packages (from sklearn-crfsuite->pyvi) (1.12.0)\n",
      "Collecting python-crfsuite>=0.8.3\n",
      "\u001b[?25l  Downloading https://files.pythonhosted.org/packages/2f/86/cfcd71edca9d25d3d331209a20f6314b6f3f134c29478f90559cee9ce091/python_crfsuite-0.9.6-cp36-cp36m-manylinux1_x86_64.whl (754kB)\n",
      "\u001b[K     |████████████████████████████████| 757kB 22.9MB/s \n",
      "\u001b[?25hRequirement already satisfied: numpy>=1.11.0 in /usr/local/lib/python3.6/dist-packages (from scikit-learn->pyvi) (1.17.5)\n",
      "Requirement already satisfied: joblib>=0.11 in /usr/local/lib/python3.6/dist-packages (from scikit-learn->pyvi) (0.14.1)\n",
      "Requirement already satisfied: scipy>=0.17.0 in /usr/local/lib/python3.6/dist-packages (from scikit-learn->pyvi) (1.4.1)\n",
      "Installing collected packages: python-crfsuite, sklearn-crfsuite, pyvi\n",
      "Successfully installed python-crfsuite-0.9.6 pyvi-0.0.9.7 sklearn-crfsuite-0.3.6\n"
     ]
    }
   ],
   "source": [
    "#install library\n",
    "!pip install pyvi"
   ]
  },
  {
   "cell_type": "code",
   "execution_count": null,
   "metadata": {
    "colab": {},
    "colab_type": "code",
    "id": "fRGN67VhNjX8"
   },
   "outputs": [],
   "source": [
    "from pyvi import ViTokenizer\n",
    "from gensim.models import Word2Vec\n",
    "import pandas as pd\n",
    "import numpy as np\n",
    "import glob\n",
    "from collections import Counter\n",
    "from string import punctuation"
   ]
  },
  {
   "cell_type": "code",
   "execution_count": null,
   "metadata": {
    "colab": {
     "base_uri": "https://localhost:8080/",
     "height": 198
    },
    "colab_type": "code",
    "executionInfo": {
     "elapsed": 1385,
     "status": "ok",
     "timestamp": 1578506458237,
     "user": {
      "displayName": "Loc dang Khac",
      "photoUrl": "",
      "userId": "17874175676520040314"
     },
     "user_tz": -420
    },
    "id": "SgLJVGauBtAx",
    "outputId": "bf943427-d1af-43cc-c99a-556a95831661"
   },
   "outputs": [
    {
     "data": {
      "text/html": [
       "<div>\n",
       "<style scoped>\n",
       "    .dataframe tbody tr th:only-of-type {\n",
       "        vertical-align: middle;\n",
       "    }\n",
       "\n",
       "    .dataframe tbody tr th {\n",
       "        vertical-align: top;\n",
       "    }\n",
       "\n",
       "    .dataframe thead th {\n",
       "        text-align: right;\n",
       "    }\n",
       "</style>\n",
       "<table border=\"1\" class=\"dataframe\">\n",
       "  <thead>\n",
       "    <tr style=\"text-align: right;\">\n",
       "      <th></th>\n",
       "      <th>content</th>\n",
       "      <th>class</th>\n",
       "    </tr>\n",
       "  </thead>\n",
       "  <tbody>\n",
       "    <tr>\n",
       "      <th>0</th>\n",
       "      <td>Đang xài MX1. Dùng bình thường ngon, pin trâu....</td>\n",
       "      <td>positive</td>\n",
       "    </tr>\n",
       "    <tr>\n",
       "      <th>1</th>\n",
       "      <td>Qủa pin ngon, sạc lại được, bền. Riêng em dùng...</td>\n",
       "      <td>positive</td>\n",
       "    </tr>\n",
       "    <tr>\n",
       "      <th>2</th>\n",
       "      <td>cũng đang xài 1 con logitech bluetooth tầm thấ...</td>\n",
       "      <td>positive</td>\n",
       "    </tr>\n",
       "    <tr>\n",
       "      <th>3</th>\n",
       "      <td>Logitech pin trâu thôi rồi, mua 1 con B175 cu...</td>\n",
       "      <td>positive</td>\n",
       "    </tr>\n",
       "    <tr>\n",
       "      <th>4</th>\n",
       "      <td>Em có con chuột không dây 150k cũng đầy đủ nút...</td>\n",
       "      <td>positive</td>\n",
       "    </tr>\n",
       "  </tbody>\n",
       "</table>\n",
       "</div>"
      ],
      "text/plain": [
       "                                             content     class\n",
       "0  Đang xài MX1. Dùng bình thường ngon, pin trâu....  positive\n",
       "1  Qủa pin ngon, sạc lại được, bền. Riêng em dùng...  positive\n",
       "2  cũng đang xài 1 con logitech bluetooth tầm thấ...  positive\n",
       "3  Logitech pin trâu thôi rồi, mua 1 con B175 cu...  positive\n",
       "4  Em có con chuột không dây 150k cũng đầy đủ nút...  positive"
      ]
     },
     "execution_count": 5,
     "metadata": {
      "tags": []
     },
     "output_type": "execute_result"
    }
   ],
   "source": [
    "data = pd.read_csv(\"/gdrive/My Drive/Vietnamese_Sentiment_Analysis/Program/Dataset/VLSP2016_SA-new.csv\")\n",
    "data.head()"
   ]
  },
  {
   "cell_type": "markdown",
   "metadata": {
    "colab_type": "text",
    "id": "tcrIe5U35EPn"
   },
   "source": [
    "# Cleaning and Preprocessing Text Data "
   ]
  },
  {
   "cell_type": "code",
   "execution_count": null,
   "metadata": {
    "colab": {},
    "colab_type": "code",
    "id": "mYg1vYqJMhbz"
   },
   "outputs": [],
   "source": [
    "y = data[\"class\"].values\n",
    "X_text = data[\"content\"].values"
   ]
  },
  {
   "cell_type": "markdown",
   "metadata": {
    "colab_type": "text",
    "id": "uuR4GE8ZDX11"
   },
   "source": [
    "### Tokenize text"
   ]
  },
  {
   "cell_type": "code",
   "execution_count": null,
   "metadata": {
    "colab": {},
    "colab_type": "code",
    "id": "VP4eeXIhqCjC"
   },
   "outputs": [],
   "source": [
    "# Thủ thuật tách từ\n",
    "comments = []\n",
    "data['content'] = data['content'].str.lower()\n",
    "text_token = ViTokenizer.tokenize(str(data['content']))\n",
    "comments.append(text_token)"
   ]
  },
  {
   "cell_type": "markdown",
   "metadata": {
    "colab_type": "text",
    "id": "LJjIfg3t5CVw"
   },
   "source": [
    "### Create Vietnamese stop words"
   ]
  },
  {
   "cell_type": "code",
   "execution_count": null,
   "metadata": {
    "colab": {
     "base_uri": "https://localhost:8080/",
     "height": 55
    },
    "colab_type": "code",
    "executionInfo": {
     "elapsed": 1423,
     "status": "ok",
     "timestamp": 1578506503173,
     "user": {
      "displayName": "Loc dang Khac",
      "photoUrl": "",
      "userId": "17874175676520040314"
     },
     "user_tz": -420
    },
    "id": "ezykefV3u-Rb",
    "outputId": "337e02e1-f824-454b-a7e0-9f58e5569090"
   },
   "outputs": [
    {
     "name": "stdout",
     "output_type": "stream",
     "text": [
      "['a', 'lô', 'a', 'ha', 'ai', 'ai', 'ai', 'ai', 'nấy', 'ai', 'đó', 'alô', 'amen', 'anh', 'anh', 'ấy', 'ba', 'ba', 'ba', 'ba', 'bản', 'ba', 'cùng', 'ba', 'họ', 'ba', 'ngày', 'ba', 'ngôi', 'ba', 'tăng', 'bao', 'giờ', 'bao', 'lâu', 'bao', 'nhiêu', 'bao', 'nả', 'bay', 'biến', 'biết', 'biết', 'bao', 'biết', 'bao', 'nhiêu', 'biết', 'chắc', 'biết', 'chừng', 'nào', 'biết', 'mình', 'biết', 'mấy', 'biết', 'thế', 'biết', 'trước', 'biết', 'việc', 'biết', 'đâu', 'biết', 'đâu', 'chừng', 'biết', 'đâu', 'đấy', 'biết', 'được', 'buổi', 'buổi', 'làm', 'buổi', 'mới', 'buổi', 'ngày', 'buổi', 'sớm', 'bà', 'bà', 'ấy', 'bài', 'bài', 'bác', 'bài', 'bỏ', 'bài', 'cái', 'bác', 'bán', 'bán', 'cấp', 'bán', 'dạ', 'bán', 'thế', 'bây', 'bẩy', 'bây', 'chừ', 'bây', 'giờ', 'bây', 'nhiêu', 'bèn', 'béng', 'bên', 'bên', 'bị', 'bên', 'có', 'bên', 'cạnh', 'bông', 'bước', 'bước', 'khỏi', 'bước', 'tới', 'bước', 'đi', 'bạn', 'bản', 'bản', 'bộ', 'bản', 'riêng', 'bản', 'thân', 'bản', 'ý', 'bất', 'chợt', 'bất', 'cứ', 'bất', 'giác', 'bất', 'kì', 'bất', 'kể', 'bất', 'kỳ', 'bất', 'luận', 'bất', 'ngờ', 'bất', 'nhược', 'bất', 'quá', 'bất', 'quá', 'chỉ', 'bất', 'thình', 'lình', 'bất', 'tử', 'bất', 'đồ', 'bấy', 'bấy', 'chầy', 'bấy', 'chừ', 'bấy', 'giờ', 'bấy', 'lâu', 'bấy', 'lâu', 'nay', 'bấy', 'nay', 'bấy', 'nhiêu', 'bập', 'bà', 'bập', 'bõm', 'bập', 'bõm', 'bắt', 'đầu', 'bắt', 'đầu', 'từ', 'bằng', 'bằng', 'cứ', 'bằng', 'không', 'bằng', 'người', 'bằng', 'nhau', 'bằng', 'như', 'bằng', 'nào', 'bằng', 'nấy', 'bằng', 'vào', 'bằng', 'được', 'bằng', 'ấy', 'bển', 'bệt', 'bị', 'bị', 'chú', 'bị', 'vì', 'bỏ', 'bỏ', 'bà', 'bỏ', 'cha', 'bỏ', 'cuộc', 'bỏ', 'không', 'bỏ', 'lại', 'bỏ', 'mình', 'bỏ', 'mất', 'bỏ', 'mẹ', 'bỏ', 'nhỏ', 'bỏ', 'quá', 'bỏ', 'ra', 'bỏ', 'riêng', 'bỏ', 'việc', 'bỏ', 'xa', 'bỗng', 'bỗng', 'chốc', 'bỗng', 'dưng', 'bỗng', 'không', 'bỗng', 'nhiên', 'bỗng', 'nhưng', 'bỗng', 'thấy', 'bỗng', 'đâu', 'bộ', 'bộ', 'thuộc', 'bộ', 'điều', 'bội', 'phần', 'bớ', 'bởi', 'bởi', 'ai', 'bởi', 'chưng', 'bởi', 'nhưng', 'bởi', 'sao', 'bởi', 'thế', 'bởi', 'thế', 'cho', 'nên', 'bởi', 'tại', 'bởi', 'vì', 'bởi', 'vậy', 'bởi', 'đâu', 'bức', 'cao', 'cao', 'lâu', 'cao', 'ráo', 'cao', 'răng', 'cao', 'sang', 'cao', 'số', 'cao', 'thấp', 'cao', 'thế', 'cao', 'xa', 'cha', 'cha', 'chả', 'chao', 'ôi', 'chia', 'sẻ', 'chiếc', 'cho', 'cho', 'biết', 'cho', 'chắc', 'cho', 'hay', 'cho', 'nhau', 'cho', 'nên', 'cho', 'rằng', 'cho', 'rồi', 'cho', 'thấy', 'cho', 'tin', 'cho', 'tới', 'cho', 'tới', 'khi', 'cho', 'về', 'cho', 'ăn', 'cho', 'đang', 'cho', 'được', 'cho', 'đến', 'cho', 'đến', 'khi', 'cho', 'đến', 'nỗi', 'choa', 'chu', 'cha', 'chui', 'cha', 'chung', 'chung', 'cho', 'chung', 'chung', 'chung', 'cuộc', 'chung', 'cục', 'chung', 'nhau', 'chung', 'qui', 'chung', 'quy', 'chung', 'quy', 'lại', 'chung', 'ái', 'chuyển', 'chuyển', 'tự', 'chuyển', 'đạt', 'chuyện', 'chuẩn', 'bị', 'chành', 'chạnh', 'chí', 'chết', 'chính', 'chính', 'bản', 'chính', 'giữa', 'chính', 'là', 'chính', 'thị', 'chính', 'điểm', 'chùn', 'chùn', 'chùn', 'chũn', 'chú', 'chú', 'dẫn', 'chú', 'khách', 'chú', 'mày', 'chú', 'mình', 'chúng', 'chúng', 'mình', 'chúng', 'ta', 'chúng', 'tôi', 'chúng', 'ông', 'chăn', 'chắn', 'chăng', 'chăng', 'chắc', 'chăng', 'nữa', 'chơi', 'chơi', 'họ', 'chưa', 'chưa', 'bao', 'giờ', 'chưa', 'chắc', 'chưa', 'có', 'chưa', 'cần', 'chưa', 'dùng', 'chưa', 'dễ', 'chưa', 'kể', 'chưa', 'tính', 'chưa', 'từng', 'chầm', 'chập', 'chậc', 'chắc', 'chắc', 'chắn', 'chắc', 'dạ', 'chắc', 'hẳn', 'chắc', 'lòng', 'chắc', 'người', 'chắc', 'vào', 'chắc', 'ăn', 'chẳng', 'lẽ', 'chẳng', 'những', 'chẳng', 'nữa', 'chẳng', 'phải', 'chết', 'nỗi', 'chết', 'thật', 'chết', 'tiệt', 'chỉ', 'chỉ', 'chính', 'chỉ', 'có', 'chỉ', 'là', 'chỉ', 'tên', 'chỉn', 'chị', 'chị', 'bộ', 'chị', 'ấy', 'chịu', 'chịu', 'chưa', 'chịu', 'lời', 'chịu', 'tốt', 'chịu', 'ăn', 'chọn', 'chọn', 'bên', 'chọn', 'ra', 'chốc', 'chốc', 'chớ', 'chớ', 'chi', 'chớ', 'gì', 'chớ', 'không', 'chớ', 'kể', 'chớ', 'như', 'chợt', 'chợt', 'nghe', 'chợt', 'nhìn', 'chủn', 'chứ', 'chứ', 'ai', 'chứ', 'còn', 'chứ', 'gì', 'chứ', 'không', 'chứ', 'không', 'phải', 'chứ', 'lại', 'chứ', 'lị', 'chứ', 'như', 'chứ', 'sao', 'coi', 'bộ', 'coi', 'mòi', 'con', 'con', 'con', 'con', 'dạ', 'con', 'nhà', 'con', 'tính', 'cu', 'cậu', 'cuối', 'cuối', 'cùng', 'cuối', 'điểm', 'cuốn', 'cuộc', 'càng', 'càng', 'càng', 'càng', 'hay', 'cá', 'nhân', 'các', 'các', 'cậu', 'cách', 'cách', 'bức', 'cách', 'không', 'cách', 'nhau', 'cách', 'đều', 'cái', 'cái', 'gì', 'cái', 'họ', 'cái', 'đã', 'cái', 'đó', 'cái', 'ấy', 'câu', 'hỏi', 'cây', 'cây', 'nước', 'còn', 'còn', 'như', 'còn', 'nữa', 'còn', 'thời', 'gian', 'còn', 'về', 'có', 'có', 'ai', 'có', 'chuyện', 'có', 'chăng', 'có', 'chăng', 'là', 'có', 'chứ', 'có', 'cơ', 'có', 'dễ', 'có', 'họ', 'có', 'khi', 'có', 'ngày', 'có', 'người', 'có', 'nhiều', 'có', 'nhà', 'có', 'phải', 'có', 'số', 'có', 'tháng', 'có', 'thế', 'có', 'thể', 'có', 'vẻ', 'có', 'ý', 'có', 'ăn', 'có', 'điều', 'có', 'điều', 'kiện', 'có', 'đáng', 'có', 'đâu', 'có', 'được', 'cóc', 'khô', 'cô', 'cô', 'mình', 'cô', 'quả', 'cô', 'tăng', 'cô', 'ấy', 'công', 'nhiên', 'cùng', 'cùng', 'chung', 'cùng', 'cực', 'cùng', 'nhau', 'cùng', 'tuổi', 'cùng', 'tột', 'cùng', 'với', 'cùng', 'ăn', 'căn', 'căn', 'cái', 'căn', 'cắt', 'căn', 'tính', 'cũng', 'cũng', 'như', 'cũng', 'nên', 'cũng', 'thế', 'cũng', 'vậy', 'cũng', 'vậy', 'thôi', 'cũng', 'được', 'cơ', 'cơ', 'chỉ', 'cơ', 'chừng', 'cơ', 'cùng', 'cơ', 'dẫn', 'cơ', 'hồ', 'cơ', 'hội', 'cơ', 'mà', 'cơn', 'cả', 'cả', 'nghe', 'cả', 'nghĩ', 'cả', 'ngày', 'cả', 'người', 'cả', 'nhà', 'cả', 'năm', 'cả', 'thảy', 'cả', 'thể', 'cả', 'tin', 'cả', 'ăn', 'cả', 'đến', 'cảm', 'thấy', 'cảm', 'ơn', 'cấp', 'cấp', 'số', 'cấp', 'trực', 'tiếp', 'cần', 'cần', 'cấp', 'cần', 'gì', 'cần', 'số', 'cật', 'lực', 'cật', 'sức', 'cậu', 'cổ', 'lai', 'cụ', 'thể', 'cụ', 'thể', 'là', 'cụ', 'thể', 'như', 'của', 'của', 'ngọt', 'của', 'tin', 'cứ', 'cứ', 'như', 'cứ', 'việc', 'cứ', 'điểm', 'cực', 'lực', 'do', 'do', 'vì', 'do', 'vậy', 'do', 'đó', 'duy', 'duy', 'chỉ', 'duy', 'có', 'dài', 'dài', 'lời', 'dài', 'ra', 'dành', 'dành', 'dành', 'dào', 'dì', 'dù', 'dù', 'cho', 'dù', 'dì', 'dù', 'gì', 'dù', 'rằng', 'dù', 'sao', 'dùng', 'dùng', 'cho', 'dùng', 'hết', 'dùng', 'làm', 'dùng', 'đến', 'dưới', 'dưới', 'nước', 'dạ', 'dạ', 'bán', 'dạ', 'con', 'dạ', 'dài', 'dạ', 'dạ', 'dạ', 'khách', 'dần', 'dà', 'dần', 'dần', 'dầu', 'sao', 'dẫn', 'dẫu', 'dẫu', 'mà', 'dẫu', 'rằng', 'dẫu', 'sao', 'dễ', 'dễ', 'dùng', 'dễ', 'gì', 'dễ', 'khiến', 'dễ', 'nghe', 'dễ', 'ngươi', 'dễ', 'như', 'chơi', 'dễ', 'sợ', 'dễ', 'sử', 'dụng', 'dễ', 'thường', 'dễ', 'thấy', 'dễ', 'ăn', 'dễ', 'đâu', 'dở', 'chừng', 'dữ', 'dữ', 'cách', 'em', 'em', 'em', 'giá', 'trị', 'giá', 'trị', 'thực', 'tế', 'giảm', 'giảm', 'chính', 'giảm', 'thấp', 'giảm', 'thế', 'giống', 'giống', 'người', 'giống', 'nhau', 'giống', 'như', 'giờ', 'giờ', 'lâu', 'giờ', 'này', 'giờ', 'đi', 'giờ', 'đây', 'giờ', 'đến', 'giữ', 'giữ', 'lấy', 'giữ', 'ý', 'giữa', 'giữa', 'lúc', 'gây', 'gây', 'cho', 'gây', 'giống', 'gây', 'ra', 'gây', 'thêm', 'gì', 'gì', 'gì', 'gì', 'đó', 'gần', 'gần', 'bên', 'gần', 'hết', 'gần', 'ngày', 'gần', 'như', 'gần', 'xa', 'gần', 'đây', 'gần', 'đến', 'gặp', 'gặp', 'khó', 'khăn', 'gặp', 'phải', 'gồm', 'hay', 'hay', 'biết', 'hay', 'hay', 'hay', 'không', 'hay', 'là', 'hay', 'làm', 'hay', 'nhỉ', 'hay', 'nói', 'hay', 'sao', 'hay', 'tin', 'hay', 'đâu', 'hiểu', 'hiện', 'nay', 'hiện', 'tại', 'hoàn', 'toàn', 'hoặc', 'hoặc', 'là', 'hãy', 'hãy', 'còn', 'hơn', 'hơn', 'cả', 'hơn', 'hết', 'hơn', 'là', 'hơn', 'nữa', 'hơn', 'trước', 'hầu', 'hết', 'hết', 'hết', 'chuyện', 'hết', 'cả', 'hết', 'của', 'hết', 'nói', 'hết', 'ráo', 'hết', 'rồi', 'hết', 'ý', 'họ', 'họ', 'gần', 'họ', 'xa', 'hỏi', 'hỏi', 'lại', 'hỏi', 'xem', 'hỏi', 'xin', 'hỗ', 'trợ', 'khi', 'khi', 'khác', 'khi', 'không', 'khi', 'nào', 'khi', 'nên', 'khi', 'trước', 'khiến', 'khoảng', 'khoảng', 'cách', 'khoảng', 'không', 'khá', 'khá', 'tốt', 'khác', 'khác', 'gì', 'khác', 'khác', 'khác', 'nhau', 'khác', 'nào', 'khác', 'thường', 'khác', 'xa', 'khách', 'khó', 'khó', 'biết', 'khó', 'chơi', 'khó', 'khăn', 'khó', 'làm', 'khó', 'mở', 'khó', 'nghe', 'khó', 'nghĩ', 'khó', 'nói', 'khó', 'thấy', 'khó', 'tránh', 'không', 'không', 'ai', 'không', 'bao', 'giờ', 'không', 'bao', 'lâu', 'không', 'biết', 'không', 'bán', 'không', 'chỉ', 'không', 'còn', 'không', 'có', 'không', 'có', 'gì', 'không', 'cùng', 'không', 'cần', 'không', 'cứ', 'không', 'dùng', 'không', 'gì', 'không', 'hay', 'không', 'khỏi', 'không', 'kể', 'không', 'ngoài', 'không', 'nhận', 'không', 'những', 'không', 'phải', 'không', 'phải', 'không', 'không', 'thể', 'không', 'tính', 'không', 'điều', 'kiện', 'không', 'được', 'không', 'đầy', 'không', 'để', 'khẳng', 'định', 'khỏi', 'khỏi', 'nói', 'kể', 'kể', 'cả', 'kể', 'như', 'kể', 'tới', 'kể', 'từ', 'liên', 'quan', 'loại', 'loại', 'từ', 'luôn', 'luôn', 'cả', 'luôn', 'luôn', 'luôn', 'tay', 'là', 'là', 'cùng', 'là', 'là', 'là', 'nhiều', 'là', 'phải', 'là', 'thế', 'nào', 'là', 'vì', 'là', 'ít', 'làm', 'làm', 'bằng', 'làm', 'cho', 'làm', 'dần', 'dần', 'làm', 'gì', 'làm', 'lòng', 'làm', 'lại', 'làm', 'lấy', 'làm', 'mất', 'làm', 'ngay', 'làm', 'như', 'làm', 'nên', 'làm', 'ra', 'làm', 'riêng', 'làm', 'sao', 'làm', 'theo', 'làm', 'thế', 'nào', 'làm', 'tin', 'làm', 'tôi', 'làm', 'tăng', 'làm', 'tại', 'làm', 'tắp', 'lự', 'làm', 'vì', 'làm', 'đúng', 'làm', 'được', 'lâu', 'lâu', 'các', 'lâu', 'lâu', 'lâu', 'nay', 'lâu', 'ngày', 'lên', 'lên', 'cao', 'lên', 'cơn', 'lên', 'mạnh', 'lên', 'ngôi', 'lên', 'nước', 'lên', 'số', 'lên', 'xuống', 'lên', 'đến', 'lòng', 'lòng', 'không', 'lúc', 'lúc', 'khác', 'lúc', 'lâu', 'lúc', 'nào', 'lúc', 'này', 'lúc', 'sáng', 'lúc', 'trước', 'lúc', 'đi', 'lúc', 'đó', 'lúc', 'đến', 'lúc', 'ấy', 'lý', 'do', 'lượng', 'lượng', 'cả', 'lượng', 'số', 'lượng', 'từ', 'lại', 'lại', 'bộ', 'lại', 'cái', 'lại', 'còn', 'lại', 'giống', 'lại', 'làm', 'lại', 'người', 'lại', 'nói', 'lại', 'nữa', 'lại', 'quả', 'lại', 'thôi', 'lại', 'ăn', 'lại', 'đây', 'lấy', 'lấy', 'có', 'lấy', 'cả', 'lấy', 'giống', 'lấy', 'làm', 'lấy', 'lý', 'do', 'lấy', 'lại', 'lấy', 'ra', 'lấy', 'ráo', 'lấy', 'sau', 'lấy', 'số', 'lấy', 'thêm', 'lấy', 'thế', 'lấy', 'vào', 'lấy', 'xuống', 'lấy', 'được', 'lấy', 'để', 'lần', 'lần', 'khác', 'lần', 'lần', 'lần', 'nào', 'lần', 'này', 'lần', 'sang', 'lần', 'sau', 'lần', 'theo', 'lần', 'trước', 'lần', 'tìm', 'lớn', 'lớn', 'lên', 'lớn', 'nhỏ', 'lời', 'lời', 'chú', 'lời', 'nói', 'mang', 'mang', 'lại', 'mang', 'mang', 'mang', 'nặng', 'mang', 'về', 'muốn', 'mà', 'mà', 'cả', 'mà', 'không', 'mà', 'lại', 'mà', 'thôi', 'mà', 'vẫn', 'mình', 'mạnh', 'mất', 'mất', 'còn', 'mọi', 'mọi', 'giờ', 'mọi', 'khi', 'mọi', 'lúc', 'mọi', 'người', 'mọi', 'nơi', 'mọi', 'sự', 'mọi', 'thứ', 'mọi', 'việc', 'mối', 'mỗi', 'mỗi', 'lúc', 'mỗi', 'lần', 'mỗi', 'một', 'mỗi', 'ngày', 'mỗi', 'người', 'một', 'một', 'cách', 'một', 'cơn', 'một', 'khi', 'một', 'lúc', 'một', 'số', 'một', 'vài', 'một', 'ít', 'mới', 'mới', 'hay', 'mới', 'rồi', 'mới', 'đây', 'mở', 'mở', 'mang', 'mở', 'nước', 'mở', 'ra', 'mợ', 'mức', 'nay', 'ngay', 'ngay', 'bây', 'giờ', 'ngay', 'cả', 'ngay', 'khi', 'ngay', 'khi', 'đến', 'ngay', 'lúc', 'ngay', 'lúc', 'này', 'ngay', 'lập', 'tức', 'ngay', 'thật', 'ngay', 'tức', 'khắc', 'ngay', 'tức', 'thì', 'ngay', 'từ', 'nghe', 'nghe', 'chừng', 'nghe', 'hiểu', 'nghe', 'không', 'nghe', 'lại', 'nghe', 'nhìn', 'nghe', 'như', 'nghe', 'nói', 'nghe', 'ra', 'nghe', 'rõ', 'nghe', 'thấy', 'nghe', 'tin', 'nghe', 'trực', 'tiếp', 'nghe', 'đâu', 'nghe', 'đâu', 'như', 'nghe', 'được', 'nghen', 'nghiễm', 'nhiên', 'nghĩ', 'nghĩ', 'lại', 'nghĩ', 'ra', 'nghĩ', 'tới', 'nghĩ', 'xa', 'nghĩ', 'đến', 'nghỉm', 'ngoài', 'ngoài', 'này', 'ngoài', 'ra', 'ngoài', 'xa', 'ngoải', 'nguồn', 'ngày', 'ngày', 'càng', 'ngày', 'cấp', 'ngày', 'giờ', 'ngày', 'ngày', 'ngày', 'nào', 'ngày', 'này', 'ngày', 'nọ', 'ngày', 'qua', 'ngày', 'rày', 'ngày', 'tháng', 'ngày', 'xưa', 'ngày', 'xửa', 'ngày', 'đến', 'ngày', 'ấy', 'ngôi', 'ngôi', 'nhà', 'ngôi', 'thứ', 'ngõ', 'hầu', 'ngăn', 'ngắt', 'ngươi', 'người', 'người', 'hỏi', 'người', 'khác', 'người', 'khách', 'người', 'mình', 'người', 'nghe', 'người', 'người', 'người', 'nhận', 'ngọn', 'ngọn', 'nguồn', 'ngọt', 'ngồi', 'ngồi', 'bệt', 'ngồi', 'không', 'ngồi', 'sau', 'ngồi', 'trệt', 'ngộ', 'nhỡ', 'nhanh', 'nhanh', 'lên', 'nhanh', 'tay', 'nhau', 'nhiên', 'hậu', 'nhiều', 'nhiều', 'ít', 'nhiệt', 'liệt', 'nhung', 'nhăng', 'nhà', 'nhà', 'chung', 'nhà', 'khó', 'nhà', 'làm', 'nhà', 'ngoài', 'nhà', 'ngươi', 'nhà', 'tôi', 'nhà', 'việc', 'nhân', 'dịp', 'nhân', 'tiện', 'nhé', 'nhìn', 'nhìn', 'chung', 'nhìn', 'lại', 'nhìn', 'nhận', 'nhìn', 'theo', 'nhìn', 'thấy', 'nhìn', 'xuống', 'nhóm', 'nhón', 'nhén', 'như', 'như', 'ai', 'như', 'chơi', 'như', 'không', 'như', 'là', 'như', 'nhau', 'như', 'quả', 'như', 'sau', 'như', 'thường', 'như', 'thế', 'như', 'thế', 'nào', 'như', 'thể', 'như', 'trên', 'như', 'trước', 'như', 'tuồng', 'như', 'vậy', 'như', 'ý', 'nhưng', 'nhưng', 'mà', 'nhược', 'bằng', 'nhất', 'nhất', 'loạt', 'nhất', 'luật', 'nhất', 'là', 'nhất', 'mực', 'nhất', 'nhất', 'nhất', 'quyết', 'nhất', 'sinh', 'nhất', 'thiết', 'nhất', 'thì', 'nhất', 'tâm', 'nhất', 'tề', 'nhất', 'đán', 'nhất', 'định', 'nhận', 'nhận', 'biết', 'nhận', 'họ', 'nhận', 'làm', 'nhận', 'nhau', 'nhận', 'ra', 'nhận', 'thấy', 'nhận', 'việc', 'nhận', 'được', 'nhằm', 'nhằm', 'khi', 'nhằm', 'lúc', 'nhằm', 'vào', 'nhằm', 'để', 'nhỉ', 'nhỏ', 'nhỏ', 'người', 'nhớ', 'nhớ', 'bập', 'bõm', 'nhớ', 'lại', 'nhớ', 'lấy', 'nhớ', 'ra', 'nhờ', 'nhờ', 'chuyển', 'nhờ', 'có', 'nhờ', 'nhờ', 'nhờ', 'đó', 'nhỡ', 'ra', 'những', 'những', 'ai', 'những', 'khi', 'những', 'là', 'những', 'lúc', 'những', 'muốn', 'những', 'như', 'nào', 'nào', 'cũng', 'nào', 'hay', 'nào', 'là', 'nào', 'phải', 'nào', 'đâu', 'nào', 'đó', 'này', 'này', 'nọ', 'nên', 'nên', 'chi', 'nên', 'chăng', 'nên', 'làm', 'nên', 'người', 'nên', 'tránh', 'nó', 'nóc', 'nói', 'nói', 'bông', 'nói', 'chung', 'nói', 'khó', 'nói', 'là', 'nói', 'lên', 'nói', 'lại', 'nói', 'nhỏ', 'nói', 'phải', 'nói', 'qua', 'nói', 'ra', 'nói', 'riêng', 'nói', 'rõ', 'nói', 'thêm', 'nói', 'thật', 'nói', 'toẹt', 'nói', 'trước', 'nói', 'tốt', 'nói', 'với', 'nói', 'xa', 'nói', 'ý', 'nói', 'đến', 'nói', 'đủ', 'năm', 'năm', 'tháng', 'nơi', 'nơi', 'nơi', 'nước', 'nước', 'bài', 'nước', 'cùng', 'nước', 'lên', 'nước', 'nặng', 'nước', 'quả', 'nước', 'xuống', 'nước', 'ăn', 'nước', 'đến', 'nấy', 'nặng', 'nặng', 'căn', 'nặng', 'mình', 'nặng', 'về', 'nếu', 'nếu', 'có', 'nếu', 'cần', 'nếu', 'không', 'nếu', 'mà', 'nếu', 'như', 'nếu', 'thế', 'nếu', 'vậy', 'nếu', 'được', 'nền', 'nọ', 'nớ', 'nức', 'nở', 'nữa', 'nữa', 'khi', 'nữa', 'là', 'nữa', 'rồi', 'oai', 'oái', 'oái', 'pho', 'phè', 'phè', 'phè', 'phía', 'phía', 'bên', 'phía', 'bạn', 'phía', 'dưới', 'phía', 'sau', 'phía', 'trong', 'phía', 'trên', 'phía', 'trước', 'phóc', 'phót', 'phù', 'hợp', 'phăn', 'phắt', 'phương', 'chi', 'phải', 'phải', 'biết', 'phải', 'chi', 'phải', 'chăng', 'phải', 'cách', 'phải', 'cái', 'phải', 'giờ', 'phải', 'khi', 'phải', 'không', 'phải', 'lại', 'phải', 'lời', 'phải', 'người', 'phải', 'như', 'phải', 'rồi', 'phải', 'tay', 'phần', 'phần', 'lớn', 'phần', 'nhiều', 'phần', 'nào', 'phần', 'sau', 'phần', 'việc', 'phắt', 'phỉ', 'phui', 'phỏng', 'phỏng', 'như', 'phỏng', 'nước', 'phỏng', 'theo', 'phỏng', 'tính', 'phốc', 'phụt', 'phứt', 'qua', 'qua', 'chuyện', 'qua', 'khỏi', 'qua', 'lại', 'qua', 'lần', 'qua', 'ngày', 'qua', 'tay', 'qua', 'thì', 'qua', 'đi', 'quan', 'trọng', 'quan', 'trọng', 'vấn', 'đề', 'quan', 'tâm', 'quay', 'quay', 'bước', 'quay', 'lại', 'quay', 'số', 'quay', 'đi', 'quá', 'quá', 'bán', 'quá', 'bộ', 'quá', 'giờ', 'quá', 'lời', 'quá', 'mức', 'quá', 'nhiều', 'quá', 'tay', 'quá', 'thì', 'quá', 'tin', 'quá', 'trình', 'quá', 'tuổi', 'quá', 'đáng', 'quá', 'ư', 'quả', 'quả', 'là', 'quả', 'thật', 'quả', 'thế', 'quả', 'vậy', 'quận', 'ra', 'ra', 'bài', 'ra', 'bộ', 'ra', 'chơi', 'ra', 'gì', 'ra', 'lại', 'ra', 'lời', 'ra', 'ngôi', 'ra', 'người', 'ra', 'sao', 'ra', 'tay', 'ra', 'vào', 'ra', 'ý', 'ra', 'điều', 'ra', 'đây', 'ren', 'rén', 'riu', 'ríu', 'riêng', 'riêng', 'từng', 'riệt', 'rày', 'ráo', 'ráo', 'cả', 'ráo', 'nước', 'ráo', 'trọi', 'rén', 'rén', 'bước', 'rích', 'rón', 'rén', 'rõ', 'rõ', 'là', 'rõ', 'thật', 'rút', 'cục', 'răng', 'răng', 'răng', 'rất', 'rất', 'lâu', 'rằng', 'rằng', 'là', 'rốt', 'cuộc', 'rốt', 'cục', 'rồi', 'rồi', 'nữa', 'rồi', 'ra', 'rồi', 'sao', 'rồi', 'sau', 'rồi', 'tay', 'rồi', 'thì', 'rồi', 'xem', 'rồi', 'đây', 'rứa', 'sa', 'sả', 'sang', 'sang', 'năm', 'sang', 'sáng', 'sang', 'tay', 'sao', 'sao', 'bản', 'sao', 'bằng', 'sao', 'cho', 'sao', 'vậy', 'sao', 'đang', 'sau', 'sau', 'chót', 'sau', 'cuối', 'sau', 'cùng', 'sau', 'hết', 'sau', 'này', 'sau', 'nữa', 'sau', 'sau', 'sau', 'đây', 'sau', 'đó', 'so', 'so', 'với', 'song', 'le', 'suýt', 'suýt', 'nữa', 'sáng', 'sáng', 'ngày', 'sáng', 'rõ', 'sáng', 'thế', 'sáng', 'ý', 'sì', 'sì', 'sì', 'sất', 'sắp', 'sắp', 'đặt', 'sẽ', 'sẽ', 'biết', 'sẽ', 'hay', 'số', 'số', 'cho', 'biết', 'số', 'cụ', 'thể', 'số', 'loại', 'số', 'là', 'số', 'người', 'số', 'phần', 'số', 'thiếu', 'sốt', 'sột', 'sớm', 'sớm', 'ngày', 'sở', 'dĩ', 'sử', 'dụng', 'sự', 'sự', 'thế', 'sự', 'việc', 'tanh', 'tanh', 'tanh', 'tay', 'tay', 'quay', 'tha', 'hồ', 'tha', 'hồ', 'chơi', 'tha', 'hồ', 'ăn', 'than', 'ôi', 'thanh', 'thanh', 'ba', 'thanh', 'chuyển', 'thanh', 'không', 'thanh', 'thanh', 'thanh', 'tính', 'thanh', 'điều', 'kiện', 'thanh', 'điểm', 'thay', 'đổi', 'thay', 'đổi', 'tình', 'trạng', 'theo', 'theo', 'bước', 'theo', 'như', 'theo', 'tin', 'thi', 'thoảng', 'thiếu', 'thiếu', 'gì', 'thiếu', 'điểm', 'thoạt', 'thoạt', 'nghe', 'thoạt', 'nhiên', 'thoắt', 'thuần', 'thuần', 'ái', 'thuộc', 'thuộc', 'bài', 'thuộc', 'cách', 'thuộc', 'lại', 'thuộc', 'từ', 'thà', 'thà', 'là', 'thà', 'rằng', 'thành', 'ra', 'thành', 'thử', 'thái', 'quá', 'tháng', 'tháng', 'ngày', 'tháng', 'năm', 'tháng', 'tháng', 'thêm', 'thêm', 'chuyện', 'thêm', 'giờ', 'thêm', 'vào', 'thì', 'thì', 'giờ', 'thì', 'là', 'thì', 'phải', 'thì', 'ra', 'thì', 'thôi', 'thình', 'lình', 'thích', 'thích', 'cứ', 'thích', 'thuộc', 'thích', 'tự', 'thích', 'ý', 'thím', 'thôi', 'thôi', 'việc', 'thúng', 'thắng', 'thương', 'ôi', 'thường', 'thường', 'bị', 'thường', 'hay', 'thường', 'khi', 'thường', 'số', 'thường', 'sự', 'thường', 'thôi', 'thường', 'thường', 'thường', 'tính', 'thường', 'tại', 'thường', 'xuất', 'hiện', 'thường', 'đến', 'thảo', 'hèn', 'thảo', 'nào', 'thấp', 'thấp', 'cơ', 'thấp', 'thỏm', 'thấp', 'xuống', 'thấy', 'thấy', 'tháng', 'thẩy', 'thậm', 'thậm', 'chí', 'thậm', 'cấp', 'thậm', 'từ', 'thật', 'thật', 'chắc', 'thật', 'là', 'thật', 'lực', 'thật', 'quả', 'thật', 'ra', 'thật', 'sự', 'thật', 'thà', 'thật', 'tốt', 'thật', 'vậy', 'thế', 'thế', 'chuẩn', 'bị', 'thế', 'là', 'thế', 'lại', 'thế', 'mà', 'thế', 'nào', 'thế', 'nên', 'thế', 'ra', 'thế', 'sự', 'thế', 'thì', 'thế', 'thôi', 'thế', 'thường', 'thế', 'thế', 'thế', 'à', 'thế', 'đó', 'thếch', 'thỉnh', 'thoảng', 'thỏm', 'thốc', 'thốc', 'tháo', 'thốt', 'thốt', 'nhiên', 'thốt', 'nói', 'thốt', 'thôi', 'thộc', 'thời', 'gian', 'thời', 'gian', 'sử', 'dụng', 'thời', 'gian', 'tính', 'thời', 'điểm', 'thục', 'mạng', 'thứ', 'thứ', 'bản', 'thứ', 'đến', 'thửa', 'thực', 'hiện', 'thực', 'hiện', 'đúng', 'thực', 'ra', 'thực', 'sự', 'thực', 'tế', 'thực', 'vậy', 'tin', 'tin', 'thêm', 'tin', 'vào', 'tiếp', 'theo', 'tiếp', 'tục', 'tiếp', 'đó', 'tiện', 'thể', 'toà', 'toé', 'khói', 'toẹt', 'trong', 'trong', 'khi', 'trong', 'lúc', 'trong', 'mình', 'trong', 'ngoài', 'trong', 'này', 'trong', 'số', 'trong', 'vùng', 'trong', 'đó', 'trong', 'ấy', 'tránh', 'tránh', 'khỏi', 'tránh', 'ra', 'tránh', 'tình', 'trạng', 'tránh', 'xa', 'trên', 'trên', 'bộ', 'trên', 'dưới', 'trước', 'trước', 'hết', 'trước', 'khi', 'trước', 'kia', 'trước', 'nay', 'trước', 'ngày', 'trước', 'nhất', 'trước', 'sau', 'trước', 'tiên', 'trước', 'tuổi', 'trước', 'đây', 'trước', 'đó', 'trả', 'trả', 'của', 'trả', 'lại', 'trả', 'ngay', 'trả', 'trước', 'trếu', 'tráo', 'trển', 'trệt', 'trệu', 'trạo', 'trỏng', 'trời', 'đất', 'ơi', 'trở', 'thành', 'trừ', 'phi', 'trực', 'tiếp', 'trực', 'tiếp', 'làm', 'tuy', 'tuy', 'có', 'tuy', 'là', 'tuy', 'nhiên', 'tuy', 'rằng', 'tuy', 'thế', 'tuy', 'vậy', 'tuy', 'đã', 'tuyệt', 'nhiên', 'tuần', 'tự', 'tuốt', 'luốt', 'tuốt', 'tuồn', 'tuột', 'tuốt', 'tuột', 'tuổi', 'tuổi', 'cả', 'tuổi', 'tôi', 'tà', 'tà', 'tên', 'tên', 'chính', 'tên', 'cái', 'tên', 'họ', 'tên', 'tự', 'tênh', 'tênh', 'tênh', 'tìm', 'tìm', 'bạn', 'tìm', 'cách', 'tìm', 'hiểu', 'tìm', 'ra', 'tìm', 'việc', 'tình', 'trạng', 'tính', 'tính', 'cách', 'tính', 'căn', 'tính', 'người', 'tính', 'phỏng', 'tính', 'từ', 'tít', 'mù', 'tò', 'te', 'tôi', 'tôi', 'con', 'tông', 'tốc', 'tù', 'tì', 'tăm', 'tắp', 'tăng', 'tăng', 'chúng', 'tăng', 'cấp', 'tăng', 'giảm', 'tăng', 'thêm', 'tăng', 'thế', 'tại', 'tại', 'lòng', 'tại', 'nơi', 'tại', 'sao', 'tại', 'tôi', 'tại', 'vì', 'tại', 'đâu', 'tại', 'đây', 'tại', 'đó', 'tạo', 'tạo', 'cơ', 'hội', 'tạo', 'nên', 'tạo', 'ra', 'tạo', 'ý', 'tạo', 'điều', 'kiện', 'tấm', 'tấm', 'bản', 'tấm', 'các', 'tấn', 'tấn', 'tới', 'tất', 'cả', 'tất', 'cả', 'bao', 'nhiêu', 'tất', 'thảy', 'tất', 'tần', 'tật', 'tất', 'tật', 'tập', 'trung', 'tắp', 'tắp', 'lự', 'tắp', 'tắp', 'tọt', 'tỏ', 'ra', 'tỏ', 'vẻ', 'tốc', 'tả', 'tối', 'ư', 'tốt', 'tốt', 'bạn', 'tốt', 'bộ', 'tốt', 'hơn', 'tốt', 'mối', 'tốt', 'ngày', 'tột', 'tột', 'cùng', 'tớ', 'tới', 'tới', 'gần', 'tới', 'mức', 'tới', 'nơi', 'tới', 'thì', 'tức', 'thì', 'tức', 'tốc', 'từ', 'từ', 'căn', 'từ', 'giờ', 'từ', 'khi', 'từ', 'loại', 'từ', 'nay', 'từ', 'thế', 'từ', 'tính', 'từ', 'tại', 'từ', 'từ', 'từ', 'ái', 'từ', 'điều', 'từ', 'đó', 'từ', 'ấy', 'từng', 'từng', 'cái', 'từng', 'giờ', 'từng', 'nhà', 'từng', 'phần', 'từng', 'thời', 'gian', 'từng', 'đơn', 'vị', 'từng', 'ấy', 'tự', 'tự', 'cao', 'tự', 'khi', 'tự', 'lượng', 'tự', 'tính', 'tự', 'tạo', 'tự', 'vì', 'tự', 'ý', 'tự', 'ăn', 'tựu', 'trung', 'veo', 'veo', 'veo', 'việc', 'việc', 'gì', 'vung', 'thiên', 'địa', 'vung', 'tàn', 'tán', 'vung', 'tán', 'tàn', 'và', 'vài', 'vài', 'ba', 'vài', 'người', 'vài', 'nhà', 'vài', 'nơi', 'vài', 'tên', 'vài', 'điều', 'vào', 'vào', 'gặp', 'vào', 'khoảng', 'vào', 'lúc', 'vào', 'vùng', 'vào', 'đến', 'vâng', 'vâng', 'chịu', 'vâng', 'dạ', 'vâng', 'vâng', 'vâng', 'ý', 'vèo', 'vèo', 'vèo', 'vì', 'vì', 'chưng', 'vì', 'rằng', 'vì', 'sao', 'vì', 'thế', 'vì', 'vậy', 'ví', 'bằng', 'ví', 'dù', 'ví', 'phỏng', 'ví', 'thử', 'vô', 'hình', 'trung', 'vô', 'kể', 'vô', 'luận', 'vô', 'vàn', 'vùng', 'vùng', 'lên', 'vùng', 'nước', 'văng', 'tê', 'vượt', 'vượt', 'khỏi', 'vượt', 'quá', 'vạn', 'nhất', 'vả', 'chăng', 'vả', 'lại', 'vấn', 'đề', 'vấn', 'đề', 'quan', 'trọng', 'vẫn', 'vẫn', 'thế', 'vậy', 'vậy', 'là', 'vậy', 'mà', 'vậy', 'nên', 'vậy', 'ra', 'vậy', 'thì', 'vậy', 'ư', 'về', 'về', 'không', 'về', 'nước', 'về', 'phần', 'về', 'sau', 'về', 'tay', 'vị', 'trí', 'vị', 'tất', 'vốn', 'dĩ', 'với', 'với', 'lại', 'với', 'nhau', 'vở', 'vụt', 'vừa', 'vừa', 'khi', 'vừa', 'lúc', 'vừa', 'mới', 'vừa', 'qua', 'vừa', 'rồi', 'vừa', 'vừa', 'xa', 'xa', 'cách', 'xa', 'gần', 'xa', 'nhà', 'xa', 'tanh', 'xa', 'tắp', 'xa', 'xa', 'xa', 'xả', 'xem', 'xem', 'lại', 'xem', 'ra', 'xem', 'số', 'xin', 'xin', 'gặp', 'xin', 'vâng', 'xiết', 'bao', 'xon', 'xón', 'xoành', 'xoạch', 'xoét', 'xoẳn', 'xoẹt', 'xuất', 'hiện', 'xuất', 'kì', 'bất', 'ý', 'xuất', 'kỳ', 'bất', 'ý', 'xuể', 'xuống', 'xăm', 'xúi', 'xăm', 'xăm', 'xăm', 'xắm', 'xảy', 'ra', 'xềnh', 'xệch', 'xệp', 'xử', 'lý', 'yêu', 'cầu', 'à', 'à', 'này', 'à', 'ơi', 'ào', 'ào', 'vào', 'ào', 'ào', 'á', 'á', 'à', 'ái', 'ái', 'chà', 'ái', 'dà', 'áng', 'áng', 'như', 'âu', 'là', 'ít', 'ít', 'biết', 'ít', 'có', 'ít', 'hơn', 'ít', 'khi', 'ít', 'lâu', 'ít', 'nhiều', 'ít', 'nhất', 'ít', 'nữa', 'ít', 'quá', 'ít', 'ra', 'ít', 'thôi', 'ít', 'thấy', 'ô', 'hay', 'ô', 'hô', 'ô', 'kê', 'ô', 'kìa', 'ôi', 'chao', 'ôi', 'thôi', 'ông', 'ông', 'nhỏ', 'ông', 'tạo', 'ông', 'từ', 'ông', 'ấy', 'ông', 'ổng', 'úi', 'úi', 'chà', 'úi', 'dào', 'ý', 'ý', 'chừng', 'ý', 'da', 'ý', 'hoặc', 'ăn', 'ăn', 'chung', 'ăn', 'chắc', 'ăn', 'chịu', 'ăn', 'cuộc', 'ăn', 'hết', 'ăn', 'hỏi', 'ăn', 'làm', 'ăn', 'người', 'ăn', 'ngồi', 'ăn', 'quá', 'ăn', 'riêng', 'ăn', 'sáng', 'ăn', 'tay', 'ăn', 'trên', 'ăn', 'về', 'đang', 'đang', 'tay', 'đang', 'thì', 'điều', 'điều', 'gì', 'điều', 'kiện', 'điểm', 'điểm', 'chính', 'điểm', 'gặp', 'điểm', 'đầu', 'tiên', 'đành', 'đạch', 'đáng', 'đáng', 'kể', 'đáng', 'lí', 'đáng', 'lý', 'đáng', 'lẽ', 'đáng', 'số', 'đánh', 'giá', 'đánh', 'đùng', 'đáo', 'để', 'đâu', 'đâu', 'có', 'đâu', 'cũng', 'đâu', 'như', 'đâu', 'nào', 'đâu', 'phải', 'đâu', 'đâu', 'đâu', 'đây', 'đâu', 'đó', 'đây', 'đây', 'này', 'đây', 'rồi', 'đây', 'đó', 'đã', 'đã', 'hay', 'đã', 'không', 'đã', 'là', 'đã', 'lâu', 'đã', 'thế', 'đã', 'vậy', 'đã', 'đủ', 'đó', 'đó', 'đây', 'đúng', 'đúng', 'ngày', 'đúng', 'ra', 'đúng', 'tuổi', 'đúng', 'với', 'đơn', 'vị', 'đưa', 'đưa', 'cho', 'đưa', 'chuyện', 'đưa', 'em', 'đưa', 'ra', 'đưa', 'tay', 'đưa', 'tin', 'đưa', 'tới', 'đưa', 'vào', 'đưa', 'về', 'đưa', 'xuống', 'đưa', 'đến', 'được', 'được', 'cái', 'được', 'lời', 'được', 'nước', 'được', 'tin', 'đại', 'loại', 'đại', 'nhân', 'đại', 'phàm', 'đại', 'để', 'đạt', 'đảm', 'bảo', 'đầu', 'tiên', 'đầy', 'đầy', 'năm', 'đầy', 'phè', 'đầy', 'tuổi', 'đặc', 'biệt', 'đặt', 'đặt', 'làm', 'đặt', 'mình', 'đặt', 'mức', 'đặt', 'ra', 'đặt', 'trước', 'đặt', 'để', 'đến', 'đến', 'bao', 'giờ', 'đến', 'cùng', 'đến', 'cùng', 'cực', 'đến', 'cả', 'đến', 'giờ', 'đến', 'gần', 'đến', 'hay', 'đến', 'khi', 'đến', 'lúc', 'đến', 'lời', 'đến', 'nay', 'đến', 'ngày', 'đến', 'nơi', 'đến', 'nỗi', 'đến', 'thì', 'đến', 'thế', 'đến', 'tuổi', 'đến', 'xem', 'đến', 'điều', 'đến', 'đâu', 'đều', 'đều', 'bước', 'đều', 'nhau', 'đều', 'đều', 'để', 'để', 'cho', 'để', 'giống', 'để', 'không', 'để', 'lòng', 'để', 'lại', 'để', 'mà', 'để', 'phần', 'để', 'được', 'để', 'đến', 'nỗi', 'đối', 'với', 'đồng', 'thời', 'đủ', 'đủ', 'dùng', 'đủ', 'nơi', 'đủ', 'số', 'đủ', 'điều', 'đủ', 'điểm', 'ơ', 'ơ', 'hay', 'ơ', 'kìa', 'ơi', 'ơi', 'là', 'ư', 'ạ', 'ạ', 'ơi', 'ấy', 'ấy', 'là', 'ầu', 'ơ', 'ắt', 'ắt', 'hẳn', 'ắt', 'là', 'ắt', 'phải', 'ắt', 'thật', 'ối', 'dào', 'ối', 'giời', 'ối', 'giời', 'ơi', 'ồ', 'ồ', 'ồ', 'ổng', 'ớ', 'ớ', 'này', 'ờ', 'ờ', 'ờ', 'ở', 'ở', 'lại', 'ở', 'như', 'ở', 'nhờ', 'ở', 'năm', 'ở', 'trên', 'ở', 'vào', 'ở', 'đây', 'ở', 'đó', 'ở', 'được', 'ủa', 'ứ', 'hự', 'ứ', 'ừ', 'ừ', 'ừ', 'nhé', 'ừ', 'thì', 'ừ', 'ào', 'ừ', 'ừ', 'ử', '!', '\"', '#', '$', '%', '&', \"'\", '(', ')', '*', '+', ',', '-', '.', '/', ':', ';', '<', '=', '>', '?', '@', '[', '\\\\', ']', '^', '_', '`', '{', '|', '}', '~']\n"
     ]
    }
   ],
   "source": [
    "stop_word = []\n",
    "with open(\"/gdrive/My Drive/Vietnamese_Sentiment_Analysis/Program/Dataset/vietnamese-stopwords.txt\",encoding=\"utf-8\") as f :\n",
    "  text = f.read()\n",
    "  for word in text.split() :\n",
    "      stop_word.append(word)\n",
    "  f.close()\n",
    "punc = list(punctuation)\n",
    "stop_word = stop_word + punc\n",
    "print(stop_word)"
   ]
  },
  {
   "cell_type": "markdown",
   "metadata": {
    "colab_type": "text",
    "id": "QfHZ4EiNDnsk"
   },
   "source": [
    "### Clean data"
   ]
  },
  {
   "cell_type": "code",
   "execution_count": null,
   "metadata": {
    "colab": {},
    "colab_type": "code",
    "id": "F2u7dRjlNkCU"
   },
   "outputs": [],
   "source": [
    "# Làm sạch data\n",
    "sentences = []\n",
    "for comment in comments:\n",
    "    sent = []\n",
    "    for word in comment.split(\" \") :\n",
    "            if (word not in stop_word) :\n",
    "                if (\"_\" in word) or (word.isalpha() == True):\n",
    "                    sent.append(word)\n",
    "    sentences.append(\" \".join(sent))"
   ]
  },
  {
   "cell_type": "markdown",
   "metadata": {
    "colab_type": "text",
    "id": "BVnyREs9Cz-r"
   },
   "source": [
    "### Word embedding with TfidfVectorizer"
   ]
  },
  {
   "cell_type": "code",
   "execution_count": null,
   "metadata": {
    "colab": {},
    "colab_type": "code",
    "id": "Umm4O6CBAh-H"
   },
   "outputs": [],
   "source": [
    "# Word embedding from text to vector\n",
    "from sklearn.feature_extraction.text import TfidfVectorizer\n",
    "#tf = TfidfVectorizer(min_df=5,max_df= 0.8,max_features=3000,sublinear_tf=True)\n",
    "tf = TfidfVectorizer()\n",
    "#tf.fit(sentences)\n",
    "X = tf.fit_transform(X_text)"
   ]
  },
  {
   "cell_type": "code",
   "execution_count": null,
   "metadata": {
    "colab": {
     "base_uri": "https://localhost:8080/",
     "height": 35
    },
    "colab_type": "code",
    "executionInfo": {
     "elapsed": 977,
     "status": "ok",
     "timestamp": 1578506514406,
     "user": {
      "displayName": "Loc dang Khac",
      "photoUrl": "",
      "userId": "17874175676520040314"
     },
     "user_tz": -420
    },
    "id": "fAkKh4_Jg6YV",
    "outputId": "41e376da-ec0c-4c8d-f01e-ddd81315a76f"
   },
   "outputs": [
    {
     "data": {
      "text/plain": [
       "(5100, 6712)"
      ]
     },
     "execution_count": 12,
     "metadata": {
      "tags": []
     },
     "output_type": "execute_result"
    }
   ],
   "source": [
    "X.shape"
   ]
  },
  {
   "cell_type": "markdown",
   "metadata": {
    "colab_type": "text",
    "id": "QLLWya8i_AEg"
   },
   "source": [
    "# Load Algorithms"
   ]
  },
  {
   "cell_type": "code",
   "execution_count": null,
   "metadata": {
    "colab": {},
    "colab_type": "code",
    "id": "LftmYKE8Nk5H"
   },
   "outputs": [],
   "source": [
    "from sklearn.model_selection import train_test_split\n",
    "from sklearn.metrics import accuracy_score,classification_report"
   ]
  },
  {
   "cell_type": "code",
   "execution_count": null,
   "metadata": {
    "colab": {},
    "colab_type": "code",
    "id": "PN08CdWYFsiF"
   },
   "outputs": [],
   "source": [
    "X_train, X_test, y_train, y_test = train_test_split(X, y, test_size=0.3, random_state=50,shuffle=True)"
   ]
  },
  {
   "cell_type": "code",
   "execution_count": null,
   "metadata": {
    "colab": {
     "base_uri": "https://localhost:8080/",
     "height": 90
    },
    "colab_type": "code",
    "executionInfo": {
     "elapsed": 1072,
     "status": "ok",
     "timestamp": 1578506523357,
     "user": {
      "displayName": "Loc dang Khac",
      "photoUrl": "",
      "userId": "17874175676520040314"
     },
     "user_tz": -420
    },
    "id": "hhtMZqi2slZ2",
    "outputId": "45e17f4e-69f9-40d8-8f48-1e0a43aca25d"
   },
   "outputs": [
    {
     "name": "stdout",
     "output_type": "stream",
     "text": [
      "X_train lenght: 3570\n",
      "X_test lenght: 1530\n",
      "y_train lenght: 3570\n",
      "y_test lenght: 1530\n"
     ]
    }
   ],
   "source": [
    "print(\"X_train lenght:\",X_train.shape[0])\n",
    "print(\"X_test lenght:\",X_test.shape[0])\n",
    "print(\"y_train lenght:\",y_train.shape[0])\n",
    "print(\"y_test lenght:\",y_test.shape[0])"
   ]
  },
  {
   "cell_type": "markdown",
   "metadata": {
    "colab_type": "text",
    "id": "YWCBCJtesblg"
   },
   "source": [
    "## Logistic Regression"
   ]
  },
  {
   "cell_type": "code",
   "execution_count": null,
   "metadata": {
    "colab": {
     "base_uri": "https://localhost:8080/",
     "height": 254
    },
    "colab_type": "code",
    "executionInfo": {
     "elapsed": 1381,
     "status": "ok",
     "timestamp": 1578506531064,
     "user": {
      "displayName": "Loc dang Khac",
      "photoUrl": "",
      "userId": "17874175676520040314"
     },
     "user_tz": -420
    },
    "id": "mrGx1Rj7Fu8_",
    "outputId": "1f75b97e-23c7-4d07-fd6a-2aa47fec6f39"
   },
   "outputs": [
    {
     "name": "stdout",
     "output_type": "stream",
     "text": [
      "Accuracy score 0.6849673202614379\n",
      "\n",
      "\n",
      "              precision    recall  f1-score   support\n",
      "\n",
      "    negative       0.67      0.69      0.68       499\n",
      "     neutral       0.67      0.65      0.66       549\n",
      "    positive       0.72      0.72      0.72       482\n",
      "\n",
      "    accuracy                           0.68      1530\n",
      "   macro avg       0.69      0.69      0.69      1530\n",
      "weighted avg       0.68      0.68      0.68      1530\n",
      "\n"
     ]
    }
   ],
   "source": [
    "from sklearn.linear_model import LogisticRegression\n",
    "classifier = LogisticRegression(solver='lbfgs')\n",
    "classifier.fit(X_train,y_train)\n",
    "pred = classifier.predict(X_test)\n",
    "print(\"Accuracy score\",accuracy_score(y_test,pred))\n",
    "print(\"\\n\")\n",
    "print(classification_report(y_test, pred))"
   ]
  },
  {
   "cell_type": "code",
   "execution_count": null,
   "metadata": {
    "colab": {
     "base_uri": "https://localhost:8080/",
     "height": 54
    },
    "colab_type": "code",
    "executionInfo": {
     "elapsed": 11461,
     "status": "ok",
     "timestamp": 1578506546734,
     "user": {
      "displayName": "Loc dang Khac",
      "photoUrl": "",
      "userId": "17874175676520040314"
     },
     "user_tz": -420
    },
    "id": "GmjxEeNetaWl",
    "outputId": "f48feb9d-b964-421d-8f41-afb3adfd7f4c"
   },
   "outputs": [
    {
     "name": "stdout",
     "output_type": "stream",
     "text": [
      "Your test sentence: Xài bị hư\n",
      "Predicted class: negative\n"
     ]
    }
   ],
   "source": [
    "# Predict class example\n",
    "classifier = LogisticRegression(solver='lbfgs')\n",
    "classifier.fit(X, data['class'])\n",
    "\n",
    "sentence = input(\"Your test sentence: \")\n",
    "print(\"Predicted class:\",classifier.predict(tf.transform([sentence]))[0])"
   ]
  },
  {
   "cell_type": "markdown",
   "metadata": {
    "colab_type": "text",
    "id": "o5ahGmh3V7FJ"
   },
   "source": [
    "## Multinomial Naive Bayes"
   ]
  },
  {
   "cell_type": "code",
   "execution_count": null,
   "metadata": {
    "colab": {
     "base_uri": "https://localhost:8080/",
     "height": 238
    },
    "colab_type": "code",
    "executionInfo": {
     "elapsed": 723,
     "status": "ok",
     "timestamp": 1577291575232,
     "user": {
      "displayName": "Loc dang Khac",
      "photoUrl": "",
      "userId": "17874175676520040314"
     },
     "user_tz": -420
    },
    "id": "wnH5qSbeuAHl",
    "outputId": "a597902b-324f-4306-a5b1-43a5fada61a7"
   },
   "outputs": [
    {
     "name": "stdout",
     "output_type": "stream",
     "text": [
      "Accuracy score:  0.6699346405228758\n",
      "\n",
      "\n",
      "              precision    recall  f1-score   support\n",
      "\n",
      "    negative       0.63      0.66      0.65       499\n",
      "     neutral       0.66      0.64      0.65       549\n",
      "    positive       0.72      0.72      0.72       482\n",
      "\n",
      "    accuracy                           0.67      1530\n",
      "   macro avg       0.67      0.67      0.67      1530\n",
      "weighted avg       0.67      0.67      0.67      1530\n",
      "\n"
     ]
    }
   ],
   "source": [
    "from sklearn.naive_bayes import MultinomialNB\n",
    "classifier = MultinomialNB()\n",
    "classifier.fit(X_train,y_train)\n",
    "pred = classifier.predict(X_test)\n",
    "print(\"Accuracy score: \",accuracy_score(y_test,pred))\n",
    "print(\"\\n\")\n",
    "from sklearn.metrics import classification_report\n",
    "print(classification_report(y_test,pred))"
   ]
  },
  {
   "cell_type": "code",
   "execution_count": null,
   "metadata": {
    "colab": {
     "base_uri": "https://localhost:8080/",
     "height": 51
    },
    "colab_type": "code",
    "executionInfo": {
     "elapsed": 8986,
     "status": "ok",
     "timestamp": 1577291585839,
     "user": {
      "displayName": "Loc dang Khac",
      "photoUrl": "",
      "userId": "17874175676520040314"
     },
     "user_tz": -420
    },
    "id": "xoyhKBCcWuZ9",
    "outputId": "f7019d45-045b-46e4-e1f0-8d0d13a2696a"
   },
   "outputs": [
    {
     "name": "stdout",
     "output_type": "stream",
     "text": [
      "Your test sentence: không\n",
      "Predicted class:  negative\n"
     ]
    }
   ],
   "source": [
    "# Predict class example\n",
    "classifier = MultinomialNB()\n",
    "classifier.fit(X,data['class'])\n",
    "\n",
    "sentence = input(\"Your test sentence: \")\n",
    "print(\"Predicted class: \", classifier.predict(tf.transform([sentence]))[0])"
   ]
  },
  {
   "cell_type": "markdown",
   "metadata": {
    "colab_type": "text",
    "id": "KMrmCx76Xx1n"
   },
   "source": [
    "## Bernoulli Naive Bayes"
   ]
  },
  {
   "cell_type": "code",
   "execution_count": null,
   "metadata": {
    "colab": {
     "base_uri": "https://localhost:8080/",
     "height": 238
    },
    "colab_type": "code",
    "executionInfo": {
     "elapsed": 813,
     "status": "ok",
     "timestamp": 1577291598406,
     "user": {
      "displayName": "Loc dang Khac",
      "photoUrl": "",
      "userId": "17874175676520040314"
     },
     "user_tz": -420
    },
    "id": "2kmUwhvxXkGI",
    "outputId": "3510f2fd-bb0f-4af9-9bc4-8d79af4e4091"
   },
   "outputs": [
    {
     "name": "stdout",
     "output_type": "stream",
     "text": [
      "Accuracy score 0.565359477124183\n",
      "\n",
      "\n",
      "              precision    recall  f1-score   support\n",
      "\n",
      "    negative       0.62      0.56      0.59       499\n",
      "     neutral       0.63      0.38      0.47       549\n",
      "    positive       0.51      0.78      0.62       482\n",
      "\n",
      "    accuracy                           0.57      1530\n",
      "   macro avg       0.58      0.57      0.56      1530\n",
      "weighted avg       0.59      0.57      0.55      1530\n",
      "\n"
     ]
    }
   ],
   "source": [
    "from sklearn.naive_bayes import BernoulliNB\n",
    "classifier = BernoulliNB()\n",
    "classifier.fit(X_train,y_train)\n",
    "pred = classifier.predict(X_test)\n",
    "print(\"Accuracy score\",accuracy_score(y_test,pred))\n",
    "print(\"\\n\")\n",
    "from sklearn.metrics import classification_report\n",
    "print(classification_report(y_test, pred))"
   ]
  },
  {
   "cell_type": "code",
   "execution_count": null,
   "metadata": {
    "colab": {
     "base_uri": "https://localhost:8080/",
     "height": 51
    },
    "colab_type": "code",
    "executionInfo": {
     "elapsed": 7461,
     "status": "ok",
     "timestamp": 1577291606708,
     "user": {
      "displayName": "Loc dang Khac",
      "photoUrl": "",
      "userId": "17874175676520040314"
     },
     "user_tz": -420
    },
    "id": "LKDew0e9XwI1",
    "outputId": "6b3f16d0-4e14-40ab-df15-f872da8c7c31"
   },
   "outputs": [
    {
     "name": "stdout",
     "output_type": "stream",
     "text": [
      "Your test sentence: không\n",
      "Predicted class:  positive\n"
     ]
    }
   ],
   "source": [
    "# Predict class example\n",
    "classifier = BernoulliNB()\n",
    "classifier.fit(X,data['class'])\n",
    "\n",
    "sentence = input(\"Your test sentence: \")\n",
    "print(\"Predicted class: \", classifier.predict(tf.transform([sentence]))[0])"
   ]
  },
  {
   "cell_type": "markdown",
   "metadata": {
    "colab_type": "text",
    "id": "vPTD0Re4a6e3"
   },
   "source": [
    "#WEB\n"
   ]
  },
  {
   "cell_type": "code",
   "execution_count": null,
   "metadata": {
    "colab": {
     "base_uri": "https://localhost:8080/",
     "height": 290
    },
    "colab_type": "code",
    "executionInfo": {
     "elapsed": 5400,
     "status": "ok",
     "timestamp": 1578506571521,
     "user": {
      "displayName": "Loc dang Khac",
      "photoUrl": "",
      "userId": "17874175676520040314"
     },
     "user_tz": -420
    },
    "id": "3dW6N5vHbSS0",
    "outputId": "7ce90c20-e404-4ff1-a4a9-2b02b0bb0b74"
   },
   "outputs": [
    {
     "name": "stdout",
     "output_type": "stream",
     "text": [
      "Collecting flask-ngrok\n",
      "  Downloading https://files.pythonhosted.org/packages/af/6c/f54cb686ad1129e27d125d182f90f52b32f284e6c8df58c1bae54fa1adbc/flask_ngrok-0.0.25-py3-none-any.whl\n",
      "Requirement already satisfied: Flask>=0.8 in /usr/local/lib/python3.6/dist-packages (from flask-ngrok) (1.1.1)\n",
      "Requirement already satisfied: requests in /usr/local/lib/python3.6/dist-packages (from flask-ngrok) (2.21.0)\n",
      "Requirement already satisfied: click>=5.1 in /usr/local/lib/python3.6/dist-packages (from Flask>=0.8->flask-ngrok) (7.0)\n",
      "Requirement already satisfied: Jinja2>=2.10.1 in /usr/local/lib/python3.6/dist-packages (from Flask>=0.8->flask-ngrok) (2.10.3)\n",
      "Requirement already satisfied: Werkzeug>=0.15 in /usr/local/lib/python3.6/dist-packages (from Flask>=0.8->flask-ngrok) (0.16.0)\n",
      "Requirement already satisfied: itsdangerous>=0.24 in /usr/local/lib/python3.6/dist-packages (from Flask>=0.8->flask-ngrok) (1.1.0)\n",
      "Requirement already satisfied: urllib3<1.25,>=1.21.1 in /usr/local/lib/python3.6/dist-packages (from requests->flask-ngrok) (1.24.3)\n",
      "Requirement already satisfied: certifi>=2017.4.17 in /usr/local/lib/python3.6/dist-packages (from requests->flask-ngrok) (2019.11.28)\n",
      "Requirement already satisfied: idna<2.9,>=2.5 in /usr/local/lib/python3.6/dist-packages (from requests->flask-ngrok) (2.8)\n",
      "Requirement already satisfied: chardet<3.1.0,>=3.0.2 in /usr/local/lib/python3.6/dist-packages (from requests->flask-ngrok) (3.0.4)\n",
      "Requirement already satisfied: MarkupSafe>=0.23 in /usr/local/lib/python3.6/dist-packages (from Jinja2>=2.10.1->Flask>=0.8->flask-ngrok) (1.1.1)\n",
      "Installing collected packages: flask-ngrok\n",
      "Successfully installed flask-ngrok-0.0.25\n"
     ]
    }
   ],
   "source": [
    "!pip install flask-ngrok"
   ]
  },
  {
   "cell_type": "code",
   "execution_count": null,
   "metadata": {
    "colab": {
     "base_uri": "https://localhost:8080/",
     "height": 35
    },
    "colab_type": "code",
    "executionInfo": {
     "elapsed": 2105,
     "status": "ok",
     "timestamp": 1578474779475,
     "user": {
      "displayName": "Loc dang Khac",
      "photoUrl": "",
      "userId": "17874175676520040314"
     },
     "user_tz": -420
    },
    "id": "Nv0_8gjFZbZT",
    "outputId": "a2324456-9eb3-4dcb-e4b8-8d2a5582466b"
   },
   "outputs": [
    {
     "name": "stdout",
     "output_type": "stream",
     "text": [
      "Done\n"
     ]
    }
   ],
   "source": [
    "'''from zipfile import ZipFile\n",
    "filename=\"templates.zip\"\n",
    "with ZipFile(filename,'r') as zip:\n",
    "  zip.extractall()\n",
    "  print('Done')'''"
   ]
  },
  {
   "cell_type": "code",
   "execution_count": null,
   "metadata": {
    "colab": {
     "base_uri": "https://localhost:8080/",
     "height": 35
    },
    "colab_type": "code",
    "executionInfo": {
     "elapsed": 2273,
     "status": "ok",
     "timestamp": 1578474782921,
     "user": {
      "displayName": "Loc dang Khac",
      "photoUrl": "",
      "userId": "17874175676520040314"
     },
     "user_tz": -420
    },
    "id": "zoy-qSbJ7Fn9",
    "outputId": "63ed9b37-71d3-489e-a8c6-9c9816c12e42"
   },
   "outputs": [
    {
     "name": "stdout",
     "output_type": "stream",
     "text": [
      "Done\n"
     ]
    }
   ],
   "source": [
    "'''from zipfile import ZipFile\n",
    "filename=\"static.zip\"\n",
    "with ZipFile(filename,'r') as zip:\n",
    "  zip.extractall()\n",
    "  print('Done')'''"
   ]
  },
  {
   "cell_type": "code",
   "execution_count": null,
   "metadata": {
    "colab": {
     "base_uri": "https://localhost:8080/",
     "height": 254
    },
    "colab_type": "code",
    "executionInfo": {
     "elapsed": 5569,
     "status": "ok",
     "timestamp": 1578506612699,
     "user": {
      "displayName": "Loc dang Khac",
      "photoUrl": "",
      "userId": "17874175676520040314"
     },
     "user_tz": -420
    },
    "id": "HDg89gg2X3kF",
    "outputId": "1e62f037-0915-4366-8f86-a24458ee9750"
   },
   "outputs": [
    {
     "name": "stdout",
     "output_type": "stream",
     "text": [
      "Accuracy score 0.6601307189542484\n",
      "\n",
      "\n",
      "              precision    recall  f1-score   support\n",
      "\n",
      "    negative       0.61      0.70      0.65       499\n",
      "     neutral       0.62      0.66      0.64       549\n",
      "    positive       0.79      0.62      0.70       482\n",
      "\n",
      "    accuracy                           0.66      1530\n",
      "   macro avg       0.67      0.66      0.66      1530\n",
      "weighted avg       0.67      0.66      0.66      1530\n",
      "\n"
     ]
    }
   ],
   "source": [
    "from sklearn.svm import SVC\n",
    "classifier = SVC(gamma=0.1,C=1,kernel='rbf')\n",
    "classifier.fit(X_train,y_train)\n",
    "pred = classifier.predict(X_test)\n",
    "print(\"Accuracy score\",accuracy_score(y_test,pred))\n",
    "print(\"\\n\")\n",
    "from sklearn.metrics import classification_report\n",
    "print(classification_report(y_test, pred))"
   ]
  },
  {
   "cell_type": "code",
   "execution_count": null,
   "metadata": {
    "colab": {},
    "colab_type": "code",
    "id": "p6qhZowwq7UZ"
   },
   "outputs": [],
   "source": [
    "from flask_ngrok import run_with_ngrok\n",
    "from flask import Flask, render_template, redirect, url_for, request"
   ]
  },
  {
   "cell_type": "code",
   "execution_count": null,
   "metadata": {
    "colab": {
     "base_uri": "https://localhost:8080/",
     "height": 254
    },
    "colab_type": "code",
    "executionInfo": {
     "elapsed": 43210,
     "status": "ok",
     "timestamp": 1578506662228,
     "user": {
      "displayName": "Loc dang Khac",
      "photoUrl": "",
      "userId": "17874175676520040314"
     },
     "user_tz": -420
    },
    "id": "reIm-NuHa5yy",
    "outputId": "fb577c68-424f-443b-a7c7-1dc8c8fcf065"
   },
   "outputs": [
    {
     "name": "stdout",
     "output_type": "stream",
     "text": [
      " * Serving Flask app \"__main__\" (lazy loading)\n",
      " * Environment: production\n",
      "   WARNING: This is a development server. Do not use it in a production deployment.\n",
      "   Use a production WSGI server instead.\n",
      " * Debug mode: off\n"
     ]
    },
    {
     "name": "stderr",
     "output_type": "stream",
     "text": [
      " * Running on http://127.0.0.1:5000/ (Press CTRL+C to quit)\n"
     ]
    },
    {
     "name": "stdout",
     "output_type": "stream",
     "text": [
      " * Running on http://fea66f27.ngrok.io\n",
      " * Traffic stats available on http://127.0.0.1:4040\n"
     ]
    },
    {
     "name": "stderr",
     "output_type": "stream",
     "text": [
      "127.0.0.1 - - [08/Jan/2020 18:03:55] \"\u001b[32mGET / HTTP/1.1\u001b[0m\" 302 -\n",
      "127.0.0.1 - - [08/Jan/2020 18:03:56] \"\u001b[37mGET /login HTTP/1.1\u001b[0m\" 200 -\n",
      "127.0.0.1 - - [08/Jan/2020 18:03:57] \"\u001b[37mGET /static/bootstrap.min.css HTTP/1.1\u001b[0m\" 200 -\n",
      "127.0.0.1 - - [08/Jan/2020 18:03:58] \"\u001b[33mGET /favicon.ico HTTP/1.1\u001b[0m\" 404 -\n",
      "127.0.0.1 - - [08/Jan/2020 18:04:10] \"\u001b[37mPOST /login HTTP/1.1\u001b[0m\" 200 -\n"
     ]
    }
   ],
   "source": [
    "app = Flask(__name__)\n",
    "run_with_ngrok(app)   #starts ngrok when the app is run\n",
    "\n",
    "@app.route('/')\n",
    "def welcome():\n",
    "  return redirect('/login')\n",
    "\n",
    "# Route for handling the login page logic\n",
    "@app.route('/login', methods=['GET', 'POST'])\n",
    "def login():\n",
    "  error = None\n",
    "  if request.method == 'POST':\n",
    "    if request.form['SVM'] != '':\n",
    "      classifier = SVC(gamma=0.1,C=1,kernel='rbf')\n",
    "      classifier.fit(X,data['class'])\n",
    "      sentence = request.form['SVM']\n",
    "      #print(\"Predicted class: \", classifier.predict(tf.transform([sentence]))[0])\n",
    "      error =classifier.predict(tf.transform([sentence]))[0]\n",
    "  return render_template('login.html', error=error)\n",
    "\n",
    "app.run()"
   ]
  },
  {
   "cell_type": "markdown",
   "metadata": {
    "colab_type": "text",
    "id": "nLjckgEZZIoY"
   },
   "source": [
    "## Support Vector Machine"
   ]
  },
  {
   "cell_type": "code",
   "execution_count": null,
   "metadata": {
    "colab": {
     "base_uri": "https://localhost:8080/",
     "height": 54
    },
    "colab_type": "code",
    "executionInfo": {
     "elapsed": 27768,
     "status": "ok",
     "timestamp": 1578506690014,
     "user": {
      "displayName": "Loc dang Khac",
      "photoUrl": "",
      "userId": "17874175676520040314"
     },
     "user_tz": -420
    },
    "id": "hYa3g17JZT8Z",
    "outputId": "108f0160-c882-497b-d65c-a5af8b2039a4"
   },
   "outputs": [
    {
     "name": "stdout",
     "output_type": "stream",
     "text": [
      "Your test sentence:Xài bị hư\n",
      "Predicted class:  negative\n"
     ]
    }
   ],
   "source": [
    "# Predict class example\n",
    "classifier = SVC(gamma=0.1,C=1,kernel='rbf')\n",
    "classifier.fit(X,data['class'])\n",
    "\n",
    "sentence = input(\"Your test sentence:\")\n",
    "print(\"Predicted class: \", classifier.predict(tf.transform([sentence]))[0])"
   ]
  },
  {
   "cell_type": "code",
   "execution_count": null,
   "metadata": {
    "colab": {},
    "colab_type": "code",
    "id": "P17Rw70Aeeio"
   },
   "outputs": [],
   "source": []
  }
 ],
 "metadata": {
  "accelerator": "GPU",
  "colab": {
   "collapsed_sections": [],
   "name": "Vietnamese_Sentiment_Analysis.ipynb",
   "provenance": []
  },
  "kernelspec": {
   "display_name": "Python 3",
   "language": "python",
   "name": "python3"
  },
  "language_info": {
   "codemirror_mode": {
    "name": "ipython",
    "version": 3
   },
   "file_extension": ".py",
   "mimetype": "text/x-python",
   "name": "python",
   "nbconvert_exporter": "python",
   "pygments_lexer": "ipython3",
   "version": "3.8.5"
  }
 },
 "nbformat": 4,
 "nbformat_minor": 1
}
